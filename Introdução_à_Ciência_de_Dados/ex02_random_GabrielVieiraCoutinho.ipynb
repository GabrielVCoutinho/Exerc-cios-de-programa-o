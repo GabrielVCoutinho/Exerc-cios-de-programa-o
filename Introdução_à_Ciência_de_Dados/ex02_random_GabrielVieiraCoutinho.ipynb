{
 "cells": [
  {
   "cell_type": "markdown",
   "metadata": {},
   "source": [
    "# Introdução à Ciência de Dados - UFPB\n",
    "Professor: Yuri Malheiros\n",
    "\n",
    "## Python - Random - Exercício"
   ]
  },
  {
   "cell_type": "markdown",
   "metadata": {},
   "source": [
    "Implemente a função `generate_password` que deve gerar uma senha aleatória.\n",
    "\n",
    "A função tem quatro parâmetros:\n",
    "\n",
    "- `n_chars` especifica o tamanho da senha gerada.\n",
    "- `use_numbers` especifica se números podem ser usados na senha. Por padrão, esse parâmetro tem valor True.\n",
    "- `use_special_chars` especifica se caracteres especiais, por exemplo !#%&@?, pode ser usados na senha. Por padrão, esse parâmetro tem valor True.\n",
    "- `use_only_lowercase` especifica que só devem ser usadas letras minúsculas. Por padrão, esse parâmetro tem o valor False.\n",
    "\n",
    "Note que se `use_numbers` e `use_special_chars` tiverem valor False, a senha terá apenas letras."
   ]
  },
  {
   "cell_type": "code",
   "execution_count": 1,
   "metadata": {},
   "outputs": [],
   "source": [
    "import random\n",
    "import string\n",
    "\n",
    "def generate_password(n_chars, use_numbers=True, use_special_chars=True, use_only_lowercase=False):\n",
    "    special_chars = (\"!#$%&'()*+,-./:;<=>?@[\\]^_`{|}~\")\n",
    "    if use_numbers == False:\n",
    "        password = (random.choices(string.ascii_letters + special_chars, k=n_chars))\n",
    "        if use_special_chars == False:\n",
    "            password = (random.choices(string.ascii_letters, k=n_chars))\n",
    "    elif use_special_chars == False:\n",
    "        password = (random.choices(string.ascii_letters + string.digits, k=n_chars))\n",
    "    else:\n",
    "        password = (random.choices(string.ascii_letters + string.digits + special_chars, k=n_chars))\n",
    "    password_str = \"\"\n",
    "\n",
    "    for i in enumerate(password):\n",
    "        index = i[0]\n",
    "        value = i[1]\n",
    "\n",
    "        password_str += value\n",
    "    if use_only_lowercase == True:\n",
    "        password_str = str.lower(password_str)\n",
    "    return password_str\n"
   ]
  },
  {
   "cell_type": "code",
   "execution_count": 2,
   "metadata": {},
   "outputs": [
    {
     "name": "stdout",
     "output_type": "stream",
     "text": [
      "\\XgYD{#r/r\n",
      "w{orx;e.t'\n",
      "|Wao[zNwD)\n",
      "LvytebFIkO\n"
     ]
    }
   ],
   "source": [
    "# Exemplos de teste (você pode escrever outros, mas utilize pelo menos esses daqui)\n",
    "print(generate_password(10))\n",
    "print(generate_password(10, use_only_lowercase=True))\n",
    "print(generate_password(10, use_numbers=False))\n",
    "print(generate_password(10, use_numbers=False, use_special_chars=False))"
   ]
  }
 ],
 "metadata": {
  "kernelspec": {
   "display_name": "Python 3.10.6 64-bit",
   "language": "python",
   "name": "python3"
  },
  "language_info": {
   "codemirror_mode": {
    "name": "ipython",
    "version": 3
   },
   "file_extension": ".py",
   "mimetype": "text/x-python",
   "name": "python",
   "nbconvert_exporter": "python",
   "pygments_lexer": "ipython3",
   "version": "3.10.7"
  },
  "vscode": {
   "interpreter": {
    "hash": "d9f599151ea96de96de534b24ae95c610ba6d435524dc32cc870ec9dca3388bd"
   }
  }
 },
 "nbformat": 4,
 "nbformat_minor": 4
}
