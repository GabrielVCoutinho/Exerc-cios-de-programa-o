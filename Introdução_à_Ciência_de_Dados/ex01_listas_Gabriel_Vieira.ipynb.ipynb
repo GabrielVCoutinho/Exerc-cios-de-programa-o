{
  "cells": [
    {
      "cell_type": "markdown",
      "metadata": {
        "id": "AraYPAAlSEmJ"
      },
      "source": [
        "# Introdução à Ciência de Dados - UFPB\n",
        "Professor: Yuri Malheiros\n",
        "\n",
        "## Python - Listas - Exercício"
      ]
    },
    {
      "cell_type": "markdown",
      "metadata": {
        "id": "D_od7JpZSEmL"
      },
      "source": [
        "As funções abaixo possuem comentários de doctest que servem para testá-las. Por favor, não apague os comentários após a definição das funções.\n",
        "\n",
        "Você pode conferir se a sua implementação está correta executando a última célula desse notebook."
      ]
    },
    {
      "cell_type": "markdown",
      "metadata": {
        "id": "7whIBV0sSEmM"
      },
      "source": [
        "A função `clear` recebe uma lista e uma função como parâmetros. Ela deve retornar uma nova lista apenas com os elementos da lista que, ao aplicar a função passada como parâmetro, o retorno dessa função seja True."
      ]
    },
    {
      "cell_type": "code",
      "execution_count": 5,
      "metadata": {
        "id": "gETn-7VRSEmM"
      },
      "outputs": [],
      "source": [
        "def clear(a_list, test_func):\n",
        "    \"\"\"\n",
        "    Test:\n",
        "    >>> clear([1,2,3,4,5,6,7,8], lambda x: x % 2 == 0)\n",
        "    [2, 4, 6, 8]\n",
        "\n",
        "    >>> clear(['maria', 'joao', 'ana', 'lucas'], lambda x: len(x) == 5)\n",
        "    ['maria', 'lucas']\n",
        "    \"\"\"\n",
        "    \n",
        "    # ADICIONAR CÓDIGO AQUI"
      ]
    },
    {
      "cell_type": "code",
      "execution_count": 6,
      "metadata": {
        "id": "ovh4Tf-p1xf9"
      },
      "outputs": [],
      "source": [
        "def clear(a_list, test_func):\n",
        "  final_list = []\n",
        "  for v in enumerate(a_list):\n",
        "    index = v[0]\n",
        "    value = v[1]\n",
        "    teste = bool(test_func(value))\n",
        "    if teste == True:\n",
        "      final_list.append(value)\n",
        "  return final_list"
      ]
    },
    {
      "cell_type": "markdown",
      "metadata": {
        "id": "WqEAdAr0SEmN"
      },
      "source": [
        "A função `pipeline` recebe uma lista e uma quantidade variável de funções. Uma nova lista deve ser criada aplicando cada função a cada elemento da lista. Essa nova lista deve ser retornada."
      ]
    },
    {
      "cell_type": "code",
      "execution_count": null,
      "metadata": {
        "id": "H_76Oa8qSEmN"
      },
      "outputs": [],
      "source": [
        "def pipeline(a_list, *funcs):\n",
        "    \"\"\"\n",
        "    Test:\n",
        "    >>> pipeline([1,2,3,4,5], lambda x: x * 2)\n",
        "    [2, 4, 6, 8, 10]\n",
        "\n",
        "    >>> pipeline([1,2,3,4,5], lambda x: x * 2, lambda x: x-1)\n",
        "    [1, 3, 5, 7, 9]\n",
        "    \"\"\"\n",
        "\n",
        "    # ADICIONAR CÓDIGO AQUI"
      ]
    },
    {
      "cell_type": "code",
      "execution_count": 9,
      "metadata": {
        "id": "DChGg9Wd2hO9"
      },
      "outputs": [],
      "source": [
        "def pipeline(a_list, *funcs):\n",
        "  final_list = []\n",
        "  for v in enumerate(a_list):\n",
        "    index = v[0]\n",
        "    value = v[1]\n",
        "    for i in funcs:\n",
        "      value = i(value)\n",
        "    final_list.append(value)\n",
        "  return final_list"
      ]
    },
    {
      "cell_type": "code",
      "execution_count": null,
      "metadata": {
        "id": "ESvEtl9LSEmO"
      },
      "outputs": [],
      "source": [
        "import doctest\n",
        "\n",
        "doctest.testmod(verbose=True)"
      ]
    }
  ],
  "metadata": {
    "colab": {
      "provenance": []
    },
    "kernelspec": {
      "display_name": "Python 3.10.6 64-bit",
      "language": "python",
      "name": "python3"
    },
    "language_info": {
      "codemirror_mode": {
        "name": "ipython",
        "version": 3
      },
      "file_extension": ".py",
      "mimetype": "text/x-python",
      "name": "python",
      "nbconvert_exporter": "python",
      "pygments_lexer": "ipython3",
      "version": "3.10.6"
    },
    "vscode": {
      "interpreter": {
        "hash": "d9f599151ea96de96de534b24ae95c610ba6d435524dc32cc870ec9dca3388bd"
      }
    }
  },
  "nbformat": 4,
  "nbformat_minor": 0
}
