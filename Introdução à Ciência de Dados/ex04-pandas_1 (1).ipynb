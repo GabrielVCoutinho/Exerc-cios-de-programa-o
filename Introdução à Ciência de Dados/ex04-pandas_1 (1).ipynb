{
 "cells": [
  {
   "cell_type": "markdown",
   "metadata": {},
   "source": [
    "# Introdução à Ciência de Dados - UFPB\n",
    "Professor: Yuri Malheiros\n",
    "\n",
    "## Pandas"
   ]
  },
  {
   "cell_type": "markdown",
   "metadata": {},
   "source": [
    "A partir do dataset `movies.csv` utilize o Pandas para responder as perguntas:"
   ]
  },
  {
   "cell_type": "markdown",
   "metadata": {},
   "source": [
    "### Qual o gênero de filme com maior nota do IMDB? E o menor?"
   ]
  },
  {
   "cell_type": "code",
   "execution_count": 29,
   "metadata": {},
   "outputs": [],
   "source": [
    "import pandas as pd\n",
    "url = 'https://raw.githubusercontent.com/yurimalheiros/icd/master/datasets/movies.csv'\n",
    "df = pd.read_csv(url)\n",
    "\n"
   ]
  },
  {
   "cell_type": "code",
   "execution_count": 20,
   "metadata": {},
   "outputs": [
    {
     "data": {
      "text/html": [
       "<div>\n",
       "<style scoped>\n",
       "    .dataframe tbody tr th:only-of-type {\n",
       "        vertical-align: middle;\n",
       "    }\n",
       "\n",
       "    .dataframe tbody tr th {\n",
       "        vertical-align: top;\n",
       "    }\n",
       "\n",
       "    .dataframe thead th {\n",
       "        text-align: right;\n",
       "    }\n",
       "</style>\n",
       "<table border=\"1\" class=\"dataframe\">\n",
       "  <thead>\n",
       "    <tr style=\"text-align: right;\">\n",
       "      <th></th>\n",
       "      <th>IMDB Rating</th>\n",
       "    </tr>\n",
       "    <tr>\n",
       "      <th>Major Genre</th>\n",
       "      <th></th>\n",
       "    </tr>\n",
       "  </thead>\n",
       "  <tbody>\n",
       "    <tr>\n",
       "      <th>Documentary</th>\n",
       "      <td>6.997297</td>\n",
       "    </tr>\n",
       "    <tr>\n",
       "      <th>Western</th>\n",
       "      <td>6.842857</td>\n",
       "    </tr>\n",
       "    <tr>\n",
       "      <th>Black Comedy</th>\n",
       "      <td>6.818750</td>\n",
       "    </tr>\n",
       "    <tr>\n",
       "      <th>Drama</th>\n",
       "      <td>6.773442</td>\n",
       "    </tr>\n",
       "    <tr>\n",
       "      <th>Musical</th>\n",
       "      <td>6.448000</td>\n",
       "    </tr>\n",
       "    <tr>\n",
       "      <th>Thriller/Suspense</th>\n",
       "      <td>6.360944</td>\n",
       "    </tr>\n",
       "    <tr>\n",
       "      <th>Adventure</th>\n",
       "      <td>6.345020</td>\n",
       "    </tr>\n",
       "    <tr>\n",
       "      <th>Concert/Performance</th>\n",
       "      <td>6.325000</td>\n",
       "    </tr>\n",
       "    <tr>\n",
       "      <th>Action</th>\n",
       "      <td>6.114796</td>\n",
       "    </tr>\n",
       "    <tr>\n",
       "      <th>Romantic Comedy</th>\n",
       "      <td>5.873077</td>\n",
       "    </tr>\n",
       "    <tr>\n",
       "      <th>Comedy</th>\n",
       "      <td>5.853858</td>\n",
       "    </tr>\n",
       "    <tr>\n",
       "      <th>Horror</th>\n",
       "      <td>5.676077</td>\n",
       "    </tr>\n",
       "  </tbody>\n",
       "</table>\n",
       "</div>"
      ],
      "text/plain": [
       "                     IMDB Rating\n",
       "Major Genre                     \n",
       "Documentary             6.997297\n",
       "Western                 6.842857\n",
       "Black Comedy            6.818750\n",
       "Drama                   6.773442\n",
       "Musical                 6.448000\n",
       "Thriller/Suspense       6.360944\n",
       "Adventure               6.345020\n",
       "Concert/Performance     6.325000\n",
       "Action                  6.114796\n",
       "Romantic Comedy         5.873077\n",
       "Comedy                  5.853858\n",
       "Horror                  5.676077"
      ]
     },
     "execution_count": 20,
     "metadata": {},
     "output_type": "execute_result"
    }
   ],
   "source": [
    "df_genres = df[['Title', 'Major Genre', 'IMDB Rating']]\n",
    "df_genres = df_genres.groupby('Major Genre').mean()\n",
    "df_genres.sort_values('IMDB Rating', ascending=False)"
   ]
  },
  {
   "cell_type": "code",
   "execution_count": 30,
   "metadata": {},
   "outputs": [
    {
     "data": {
      "text/html": [
       "<div>\n",
       "<style scoped>\n",
       "    .dataframe tbody tr th:only-of-type {\n",
       "        vertical-align: middle;\n",
       "    }\n",
       "\n",
       "    .dataframe tbody tr th {\n",
       "        vertical-align: top;\n",
       "    }\n",
       "\n",
       "    .dataframe thead th {\n",
       "        text-align: right;\n",
       "    }\n",
       "</style>\n",
       "<table border=\"1\" class=\"dataframe\">\n",
       "  <thead>\n",
       "    <tr style=\"text-align: right;\">\n",
       "      <th></th>\n",
       "      <th>IMDB Rating</th>\n",
       "    </tr>\n",
       "    <tr>\n",
       "      <th>Major Genre</th>\n",
       "      <th></th>\n",
       "    </tr>\n",
       "  </thead>\n",
       "  <tbody>\n",
       "    <tr>\n",
       "      <th>Horror</th>\n",
       "      <td>5.676077</td>\n",
       "    </tr>\n",
       "    <tr>\n",
       "      <th>Comedy</th>\n",
       "      <td>5.853858</td>\n",
       "    </tr>\n",
       "    <tr>\n",
       "      <th>Romantic Comedy</th>\n",
       "      <td>5.873077</td>\n",
       "    </tr>\n",
       "    <tr>\n",
       "      <th>Action</th>\n",
       "      <td>6.114796</td>\n",
       "    </tr>\n",
       "    <tr>\n",
       "      <th>Concert/Performance</th>\n",
       "      <td>6.325000</td>\n",
       "    </tr>\n",
       "    <tr>\n",
       "      <th>Adventure</th>\n",
       "      <td>6.345020</td>\n",
       "    </tr>\n",
       "    <tr>\n",
       "      <th>Thriller/Suspense</th>\n",
       "      <td>6.360944</td>\n",
       "    </tr>\n",
       "    <tr>\n",
       "      <th>Musical</th>\n",
       "      <td>6.448000</td>\n",
       "    </tr>\n",
       "    <tr>\n",
       "      <th>Drama</th>\n",
       "      <td>6.773442</td>\n",
       "    </tr>\n",
       "    <tr>\n",
       "      <th>Black Comedy</th>\n",
       "      <td>6.818750</td>\n",
       "    </tr>\n",
       "    <tr>\n",
       "      <th>Western</th>\n",
       "      <td>6.842857</td>\n",
       "    </tr>\n",
       "    <tr>\n",
       "      <th>Documentary</th>\n",
       "      <td>6.997297</td>\n",
       "    </tr>\n",
       "  </tbody>\n",
       "</table>\n",
       "</div>"
      ],
      "text/plain": [
       "                     IMDB Rating\n",
       "Major Genre                     \n",
       "Horror                  5.676077\n",
       "Comedy                  5.853858\n",
       "Romantic Comedy         5.873077\n",
       "Action                  6.114796\n",
       "Concert/Performance     6.325000\n",
       "Adventure               6.345020\n",
       "Thriller/Suspense       6.360944\n",
       "Musical                 6.448000\n",
       "Drama                   6.773442\n",
       "Black Comedy            6.818750\n",
       "Western                 6.842857\n",
       "Documentary             6.997297"
      ]
     },
     "execution_count": 30,
     "metadata": {},
     "output_type": "execute_result"
    }
   ],
   "source": [
    "df_genres = df[['Title', 'Major Genre', 'IMDB Rating']]\n",
    "df_genres = df_genres.groupby('Major Genre').mean()\n",
    "df_genres.sort_values('IMDB Rating')"
   ]
  },
  {
   "cell_type": "markdown",
   "metadata": {},
   "source": [
    "### Qual o diretor dirigiu mais filmes de drama? E de comédia?"
   ]
  },
  {
   "cell_type": "code",
   "execution_count": 21,
   "metadata": {},
   "outputs": [
    {
     "data": {
      "text/plain": [
       "Director           Major Genre\n",
       "Martin Scorsese    Drama          11\n",
       "Oliver Stone       Drama          10\n",
       "Spike Lee          Drama           9\n",
       "Steven Spielberg   Drama           9\n",
       "Steven Soderbergh  Drama           6\n",
       "                                  ..\n",
       "John Dahl          Drama           1\n",
       "Justin Lin         Drama           1\n",
       "Kasi Lemmons       Drama           1\n",
       "Kathryn Bigelow    Drama           1\n",
       "Zach Braff         Drama           1\n",
       "Length: 250, dtype: int64"
      ]
     },
     "execution_count": 21,
     "metadata": {},
     "output_type": "execute_result"
    }
   ],
   "source": [
    "#Filtrei apenas as colunas Director e Major Genre e usei o Values_Counts para ver a incidencia de cada diretor\n",
    "df_drama = df[df['Major Genre'] == 'Drama']\n",
    "df_drama = df_drama[['Director', 'Major Genre']]\n",
    "df_drama.value_counts()"
   ]
  },
  {
   "cell_type": "markdown",
   "metadata": {},
   "source": [
    "### Quais filmes tiverem os maiores arrecadações (Gross) em relação ao orçamento de produção (Budget)?"
   ]
  },
  {
   "cell_type": "code",
   "execution_count": 39,
   "metadata": {},
   "outputs": [
    {
     "name": "stderr",
     "output_type": "stream",
     "text": [
      "C:\\Users\\gviei\\AppData\\Local\\Temp\\ipykernel_1192\\3882870764.py:2: SettingWithCopyWarning: \n",
      "A value is trying to be set on a copy of a slice from a DataFrame.\n",
      "Try using .loc[row_indexer,col_indexer] = value instead\n",
      "\n",
      "See the caveats in the documentation: https://pandas.pydata.org/pandas-docs/stable/user_guide/indexing.html#returning-a-view-versus-a-copy\n",
      "  df_profit['Profit'] = df_profit['Worldwide Gross'] / df_profit['Production Budget']\n"
     ]
    },
    {
     "data": {
      "text/html": [
       "<div>\n",
       "<style scoped>\n",
       "    .dataframe tbody tr th:only-of-type {\n",
       "        vertical-align: middle;\n",
       "    }\n",
       "\n",
       "    .dataframe tbody tr th {\n",
       "        vertical-align: top;\n",
       "    }\n",
       "\n",
       "    .dataframe thead th {\n",
       "        text-align: right;\n",
       "    }\n",
       "</style>\n",
       "<table border=\"1\" class=\"dataframe\">\n",
       "  <thead>\n",
       "    <tr style=\"text-align: right;\">\n",
       "      <th></th>\n",
       "      <th>Title</th>\n",
       "      <th>Production Budget</th>\n",
       "      <th>Worldwide Gross</th>\n",
       "      <th>Profit</th>\n",
       "    </tr>\n",
       "  </thead>\n",
       "  <tbody>\n",
       "    <tr>\n",
       "      <th>2526</th>\n",
       "      <td>Paranormal Activity</td>\n",
       "      <td>15000.0</td>\n",
       "      <td>193770453.0</td>\n",
       "      <td>12918.030200</td>\n",
       "    </tr>\n",
       "    <tr>\n",
       "      <th>2920</th>\n",
       "      <td>Tarnation</td>\n",
       "      <td>218.0</td>\n",
       "      <td>1162014.0</td>\n",
       "      <td>5330.339450</td>\n",
       "    </tr>\n",
       "    <tr>\n",
       "      <th>244</th>\n",
       "      <td>Deep Throat</td>\n",
       "      <td>25000.0</td>\n",
       "      <td>45000000.0</td>\n",
       "      <td>1800.000000</td>\n",
       "    </tr>\n",
       "    <tr>\n",
       "      <th>603</th>\n",
       "      <td>Mad Max</td>\n",
       "      <td>200000.0</td>\n",
       "      <td>99750000.0</td>\n",
       "      <td>498.750000</td>\n",
       "    </tr>\n",
       "    <tr>\n",
       "      <th>2758</th>\n",
       "      <td>Super Size Me</td>\n",
       "      <td>65000.0</td>\n",
       "      <td>29529368.0</td>\n",
       "      <td>454.297969</td>\n",
       "    </tr>\n",
       "    <tr>\n",
       "      <th>132</th>\n",
       "      <td>The Brothers McMullen</td>\n",
       "      <td>25000.0</td>\n",
       "      <td>10426506.0</td>\n",
       "      <td>417.060240</td>\n",
       "    </tr>\n",
       "    <tr>\n",
       "      <th>1318</th>\n",
       "      <td>The Blair Witch Project</td>\n",
       "      <td>600000.0</td>\n",
       "      <td>248300000.0</td>\n",
       "      <td>413.833333</td>\n",
       "    </tr>\n",
       "    <tr>\n",
       "      <th>531</th>\n",
       "      <td>El Mariachi</td>\n",
       "      <td>7000.0</td>\n",
       "      <td>2040920.0</td>\n",
       "      <td>291.560000</td>\n",
       "    </tr>\n",
       "    <tr>\n",
       "      <th>651</th>\n",
       "      <td>Night of the Living Dead</td>\n",
       "      <td>114000.0</td>\n",
       "      <td>30000000.0</td>\n",
       "      <td>263.157895</td>\n",
       "    </tr>\n",
       "    <tr>\n",
       "      <th>781</th>\n",
       "      <td>Rocky</td>\n",
       "      <td>1000000.0</td>\n",
       "      <td>225000000.0</td>\n",
       "      <td>225.000000</td>\n",
       "    </tr>\n",
       "  </tbody>\n",
       "</table>\n",
       "</div>"
      ],
      "text/plain": [
       "                         Title  Production Budget  Worldwide Gross  \\\n",
       "2526       Paranormal Activity            15000.0      193770453.0   \n",
       "2920                 Tarnation              218.0        1162014.0   \n",
       "244                Deep Throat            25000.0       45000000.0   \n",
       "603                    Mad Max           200000.0       99750000.0   \n",
       "2758             Super Size Me            65000.0       29529368.0   \n",
       "132      The Brothers McMullen            25000.0       10426506.0   \n",
       "1318   The Blair Witch Project           600000.0      248300000.0   \n",
       "531                El Mariachi             7000.0        2040920.0   \n",
       "651   Night of the Living Dead           114000.0       30000000.0   \n",
       "781                      Rocky          1000000.0      225000000.0   \n",
       "\n",
       "            Profit  \n",
       "2526  12918.030200  \n",
       "2920   5330.339450  \n",
       "244    1800.000000  \n",
       "603     498.750000  \n",
       "2758    454.297969  \n",
       "132     417.060240  \n",
       "1318    413.833333  \n",
       "531     291.560000  \n",
       "651     263.157895  \n",
       "781     225.000000  "
      ]
     },
     "execution_count": 39,
     "metadata": {},
     "output_type": "execute_result"
    }
   ],
   "source": [
    "df_profit = df[['Title', 'Production Budget', 'Worldwide Gross']]\n",
    "df_profit['Profit'] = df_profit['Worldwide Gross'] / df_profit['Production Budget']\n",
    "df_profit.sort_values('Profit', ascending=False).head(10)"
   ]
  }
 ],
 "metadata": {
  "kernelspec": {
   "display_name": "Python 3 (ipykernel)",
   "language": "python",
   "name": "python3"
  },
  "language_info": {
   "codemirror_mode": {
    "name": "ipython",
    "version": 3
   },
   "file_extension": ".py",
   "mimetype": "text/x-python",
   "name": "python",
   "nbconvert_exporter": "python",
   "pygments_lexer": "ipython3",
   "version": "3.9.12"
  },
  "vscode": {
   "interpreter": {
    "hash": "ef830ab394840c41deaf0944c5e09b92d0d03a0f1813e04780a1b26622c64c8e"
   }
  }
 },
 "nbformat": 4,
 "nbformat_minor": 4
}
