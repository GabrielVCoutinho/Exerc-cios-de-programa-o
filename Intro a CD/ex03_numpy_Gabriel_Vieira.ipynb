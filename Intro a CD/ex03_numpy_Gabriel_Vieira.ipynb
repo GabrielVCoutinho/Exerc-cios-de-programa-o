{
  "cells": [
    {
      "cell_type": "markdown",
      "metadata": {
        "id": "hjSA2bHiFuBL"
      },
      "source": [
        "# Introdução à Ciência de Dados - UFPB\n",
        "Professor: Yuri Malheiros\n",
        "\n",
        "## NumPy"
      ]
    },
    {
      "cell_type": "markdown",
      "metadata": {
        "id": "f_9KJZOmFuBN"
      },
      "source": [
        "Implemente a função `distance` abaixo. Ela deve receber dois pontos e retornar a distância euclidiana entre eles. Cada ponto é representado por um array do NumPy, por exemplo, `p1 = np.array([2,4])` representa o ponto com coordenadas `x=2` e `y=2`."
      ]
    },
    {
      "cell_type": "code",
      "execution_count": null,
      "metadata": {
        "id": "117MkzpMFuBO"
      },
      "outputs": [],
      "source": [
        "import numpy as np\n",
        "\n",
        "def distance(p1, p2):\n",
        "  p3 = p1 - p2\n",
        "  p3 = p3*p3\n",
        "  p4 = np.sum(p3, axis=1)\n",
        "  p4 = np.sqrt(p4)\n",
        "  return p4\n",
        "\n",
        "    \"\"\"\n",
        "    >>> distance(np.array([0,0]), np.array([1,1]))\n",
        "    1.4142135623730951\n",
        "    \n",
        "    >>> distance(np.array([1,2]), np.array([3,4]))\n",
        "    2.8284271247461903\n",
        "    \n",
        "    >>> distance(np.array([5,2]), np.array([-2,-1]))\n",
        "    7.615773105863909\n",
        "    \"\"\"\n",
        "\n",
        "    # ADICIONE O SEU CÓDIGO AQUI"
      ]
    },
    {
      "cell_type": "markdown",
      "source": [],
      "metadata": {
        "id": "A7Odv2_l6p7V"
      }
    },
    {
      "cell_type": "markdown",
      "metadata": {
        "id": "LcyHRkt7FuBP"
      },
      "source": [
        "Implemente a função `n_distances` abaixo. Ela recebe um ponto (`p1`), como um array do NumPy, e uma lista de pontos (`points`), uma matriz do NumPy, onde cada linha representa um ponto.\n",
        "\n",
        "Esta função deve retornar a distância de `p1` para todos os pontos da matriz `points`. O retorno também é uma matriz, onde cada linha tem a distância de `p1` para o ponto daquela linha."
      ]
    },
    {
      "cell_type": "code",
      "execution_count": null,
      "metadata": {
        "id": "MZuzv3qaFuBP"
      },
      "outputs": [],
      "source": [
        "def n_distances(p1, points):\n",
        "  p3 = p1 - points\n",
        "  p3 = p3*p3\n",
        "  p4 = np.sum(p3, axis=1)\n",
        "  p4 = np.sqrt(p4)\n",
        "  return p4\n",
        "\n",
        "    \"\"\"\n",
        "    >>> n_distances(np.array([0,0]), np.array([[1,1]]))\n",
        "    array([1.41421356])\n",
        "    \n",
        "    >>> n_distances(np.array([0,0]), np.array([[1,1], [2,2]]))\n",
        "    array([1.41421356, 2.82842712])\n",
        "    \n",
        "    >>> n_distances(np.array([1,2]), np.array([[3,-1], [2,1], [5, 2], [10, 1], [-2, -5]]))\n",
        "    array([3.60555128, 1.41421356, 4.        , 9.05538514, 7.61577311])\n",
        "    \"\"\"\n",
        "    \n",
        "    # ADICIONE O SEU CÓDIGO AQUI"
      ]
    },
    {
      "cell_type": "markdown",
      "metadata": {
        "id": "KiYq_vrDFuBQ"
      },
      "source": [
        "## Teste"
      ]
    },
    {
      "cell_type": "code",
      "execution_count": null,
      "metadata": {
        "id": "XL-oukkbFuBQ"
      },
      "outputs": [],
      "source": [
        "import doctest\n",
        "\n",
        "doctest.testmod(verbose=True)"
      ]
    }
  ],
  "metadata": {
    "kernelspec": {
      "display_name": "icd",
      "language": "python",
      "name": "icd"
    },
    "language_info": {
      "codemirror_mode": {
        "name": "ipython",
        "version": 3
      },
      "file_extension": ".py",
      "mimetype": "text/x-python",
      "name": "python",
      "nbconvert_exporter": "python",
      "pygments_lexer": "ipython3",
      "version": "3.7.7"
    },
    "colab": {
      "provenance": []
    }
  },
  "nbformat": 4,
  "nbformat_minor": 0
}